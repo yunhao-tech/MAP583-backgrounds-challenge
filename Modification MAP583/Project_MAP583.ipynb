{
  "cells": [
    {
      "cell_type": "markdown",
      "metadata": {
        "id": "je6whxabzm_x"
      },
      "source": [
        "# Dataloader"
      ]
    },
    {
      "cell_type": "code",
      "execution_count": 1,
      "metadata": {
        "id": "_WjYJAPPvoiB"
      },
      "outputs": [],
      "source": [
        "import numpy as np\n",
        "import matplotlib.pyplot as plt\n",
        "import os\n",
        "import torch\n",
        "import torch.nn as nn\n",
        "import torchvision\n",
        "from torchvision import models,transforms,datasets\n",
        "from torch.autograd import Variable\n",
        "from tqdm.notebook import tqdm"
      ]
    },
    {
      "cell_type": "code",
      "source": [
        "%cd sample_data"
      ],
      "metadata": {
        "colab": {
          "base_uri": "https://localhost:8080/"
        },
        "id": "foSy2S_TZyVW",
        "outputId": "9269207b-d53d-4f34-82d1-5e0fc74328cb"
      },
      "execution_count": 2,
      "outputs": [
        {
          "output_type": "stream",
          "name": "stdout",
          "text": [
            "/content/sample_data\n"
          ]
        }
      ]
    },
    {
      "cell_type": "code",
      "execution_count": null,
      "metadata": {
        "id": "IWKlEfTjv4cW"
      },
      "outputs": [],
      "source": [
        "# download  datasets \n",
        "!wget https://www.dropbox.com/s/0vv2qsc4ywb4z5v/original.tar.gz\n",
        "!tar zxf original.tar.gz\n",
        "!wget https://www.dropbox.com/s/u1iekdnwail1d9u/only_bg_b.tar.gz\n",
        "!tar zxf only_bg_b.tar.gz\n",
        "!wget https://www.dropbox.com/s/0v6w9k7q7i1ytvr/no_fg.tar.gz\n",
        "!tar zxf no_fg.tar.gz\n",
        "!wget https://www.dropbox.com/s/f2525w5aqq67kk0/mixed_same.tar.gz\n",
        "!tar zxf mixed_same.tar.gz\n",
        "!wget https://www.dropbox.com/s/cto15ceadgraur2/mixed_rand.tar.gz\n",
        "!tar zxf mixed_rand.tar.gz\n",
        "!wget https://www.dropbox.com/s/4hnkbvxastpcgz2/mixed_next.tar.gz\n",
        "!tar zxf mixed_next.tar.gz "
      ]
    },
    {
      "cell_type": "code",
      "execution_count": null,
      "metadata": {
        "id": "KNL7Lk2WtySn"
      },
      "outputs": [],
      "source": [
        "%ls"
      ]
    },
    {
      "cell_type": "code",
      "execution_count": 4,
      "metadata": {
        "id": "LpnWn95vtkX6"
      },
      "outputs": [],
      "source": [
        "data_dir=\"original\"\n",
        "bg_b_dir=\"only_bg_b\"\n",
        "no_fg_dir=\"no_fg\"\n",
        "mixed_same='mixed_same'\n",
        "mixed_rand='mixed_rand'\n",
        "mixed_next='mixed_next'"
      ]
    },
    {
      "cell_type": "code",
      "execution_count": 5,
      "metadata": {
        "id": "ryMbjQKftkau"
      },
      "outputs": [],
      "source": [
        "from torchvision import transforms,datasets\n",
        "#normalize = transforms.Normalize(mean=[0.485, 0.456, 0.406], std=[0.229, 0.224, 0.225])\n",
        "normalize = transforms.Normalize(mean=[0.4717, 0.4499, 0.3837], std=[0.2600, 0.2516, 0.2575])\n",
        "imagenet_format = transforms.Compose([transforms.CenterCrop(224), transforms.ToTensor(), normalize])\n",
        "dsets = {x: datasets.ImageFolder(os.path.join(data_dir, x), imagenet_format) for x in ['train', 'val']}\n",
        "bg_b_set={x: datasets.ImageFolder(os.path.join(bg_b_dir, x), imagenet_format) for x in ['train', 'val']}\n",
        "no_fg_set={x: datasets.ImageFolder(os.path.join(no_fg_dir, x), imagenet_format) for x in ['train', 'val']}\n",
        "mixed_same_set = {x: datasets.ImageFolder(os.path.join(mixed_same, x), imagenet_format) for x in ['train', 'val']}\n",
        "mixed_rand_set = {x: datasets.ImageFolder(os.path.join(mixed_rand, x), imagenet_format) for x in ['train', 'val']}\n",
        "mixed_next_set = {x: datasets.ImageFolder(os.path.join(mixed_next, x), imagenet_format) for x in ['train', 'val']}"
      ]
    },
    {
      "cell_type": "code",
      "execution_count": null,
      "metadata": {
        "colab": {
          "base_uri": "https://localhost:8080/"
        },
        "id": "HaaG1Gdvx0w8",
        "outputId": "8851568e-7e4c-4b31-80c3-67a3c20f1a5f"
      },
      "outputs": [
        {
          "output_type": "execute_result",
          "data": {
            "text/plain": [
              "{'train': 45405, 'val': 4185}"
            ]
          },
          "metadata": {},
          "execution_count": 12
        }
      ],
      "source": [
        "dset_sizes = {x: len(dsets[x]) for x in ['train', 'val']}\n",
        "dset_sizes"
      ]
    },
    {
      "cell_type": "code",
      "execution_count": null,
      "metadata": {
        "id": "LZHSCSbxzCnP"
      },
      "outputs": [],
      "source": [
        "dset_classes = dsets['train'].classes"
      ]
    },
    {
      "cell_type": "code",
      "execution_count": 6,
      "metadata": {
        "colab": {
          "base_uri": "https://localhost:8080/"
        },
        "id": "2Fts0KtKyCKp",
        "outputId": "6ff504ed-c747-492e-9345-41acc823cb84"
      },
      "outputs": [
        {
          "output_type": "stream",
          "name": "stderr",
          "text": [
            "/usr/local/lib/python3.7/dist-packages/torch/utils/data/dataloader.py:481: UserWarning: This DataLoader will create 6 worker processes in total. Our suggested max number of worker in current system is 2, which is smaller than what this DataLoader is going to create. Please be aware that excessive worker creation might get DataLoader running slow or even freeze, lower the worker number to avoid potential slowness/freeze if necessary.\n",
            "  cpuset_checked))\n"
          ]
        }
      ],
      "source": [
        "# define dataloaders\n",
        "loader_train = torch.utils.data.DataLoader(dsets['train'], batch_size=64, shuffle=True, num_workers=6)\n",
        "loader_valid = torch.utils.data.DataLoader(dsets['val'], batch_size=5, shuffle=False, num_workers=6)\n",
        "loader_bg_b = torch.utils.data.DataLoader(bg_b_set['val'], batch_size=5, shuffle=False, num_workers=6)\n",
        "loader_no_fg = torch.utils.data.DataLoader(no_fg_set['val'], batch_size=5, shuffle=False, num_workers=6)\n",
        "loader_mixed_same = torch.utils.data.DataLoader(mixed_same_set['val'], batch_size=5, shuffle=False, num_workers=6)\n",
        "loader_mixed_rand = torch.utils.data.DataLoader(mixed_rand_set['val'], batch_size=5, shuffle=False, num_workers=6)\n",
        "loader_mixed_next = torch.utils.data.DataLoader(mixed_next_set['val'], batch_size=5, shuffle=False, num_workers=6)"
      ]
    },
    {
      "cell_type": "markdown",
      "source": [
        "## Test dataloader"
      ],
      "metadata": {
        "id": "gKoO89WQ9_gO"
      }
    },
    {
      "cell_type": "code",
      "execution_count": null,
      "metadata": {
        "id": "DRb4bfGOyNpM"
      },
      "outputs": [],
      "source": [
        "def imshow(inp, title=None):\n",
        "#   Imshow for Tensor.\n",
        "    inp = inp.numpy().transpose((1, 2, 0))\n",
        "    mean = np.array([0.4717, 0.4499, 0.3837])\n",
        "    std = np.array([0.2600, 0.2516, 0.2575])\n",
        "    inp = np.clip(std * inp + mean, 0,1)\n",
        "    plt.imshow(inp)\n",
        "    if title is not None:\n",
        "        plt.title(title)\n",
        "    plt.pause(0.001)  # pause a bit so that plots are updated"
      ]
    },
    {
      "cell_type": "code",
      "execution_count": null,
      "metadata": {
        "id": "STGsuElUy5bf"
      },
      "outputs": [],
      "source": [
        "count = 1\n",
        "for data in loader_valid:\n",
        "    print(count, end=',')\n",
        "    if count == 1:\n",
        "        inputs_try,labels_try = data\n",
        "    count += 1"
      ]
    },
    {
      "cell_type": "code",
      "execution_count": null,
      "metadata": {
        "colab": {
          "base_uri": "https://localhost:8080/",
          "height": 131
        },
        "id": "66TvPZrxyTxs",
        "outputId": "28548aba-26eb-432a-9d93-924e1d1686cb"
      },
      "outputs": [
        {
          "output_type": "display_data",
          "data": {
            "image/png": "[encoded data removed]",
            "text/plain": [
              "<Figure size 432x288 with 1 Axes>"
            ]
          },
          "metadata": {
            "needs_background": "light"
          }
        }
      ],
      "source": [
        "out = torchvision.utils.make_grid(inputs_try)\n",
        "\n",
        "imshow(out, title=[dset_classes[x] for x in labels_try])"
      ]
    },
    {
      "cell_type": "code",
      "execution_count": null,
      "metadata": {
        "colab": {
          "base_uri": "https://localhost:8080/",
          "height": 161
        },
        "id": "dH6gTB9_zzcc",
        "outputId": "1d58acaa-4c44-411d-a86e-e8253418f539"
      },
      "outputs": [
        {
          "output_type": "stream",
          "name": "stderr",
          "text": [
            "/usr/local/lib/python3.7/dist-packages/torch/utils/data/dataloader.py:481: UserWarning: This DataLoader will create 6 worker processes in total. Our suggested max number of worker in current system is 2, which is smaller than what this DataLoader is going to create. Please be aware that excessive worker creation might get DataLoader running slow or even freeze, lower the worker number to avoid potential slowness/freeze if necessary.\n",
            "  cpuset_checked))\n"
          ]
        },
        {
          "output_type": "display_data",
          "data": {
            "image/png": "[encoded data removed]",
            "text/plain": [
              "<Figure size 432x288 with 1 Axes>"
            ]
          },
          "metadata": {
            "needs_background": "light"
          }
        }
      ],
      "source": [
        "# Get a batch of training data\n",
        "inputs, classes = next(iter(loader_train))\n",
        "\n",
        "n_images = 8\n",
        "\n",
        "# Make a grid from batch\n",
        "out = torchvision.utils.make_grid(inputs[0:n_images])\n",
        "\n",
        "imshow(out, title=[dset_classes[x] for x in classes[0:n_images]])"
      ]
    },
    {
      "cell_type": "markdown",
      "metadata": {
        "id": "_9IGqQMrZA-B"
      },
      "source": [
        "# Define Network"
      ]
    },
    {
      "cell_type": "code",
      "source": [
        "device = torch.device(\"cuda:0\" if torch.cuda.is_available() else \"cpu\")"
      ],
      "metadata": {
        "id": "8CvraOj_bQnX"
      },
      "execution_count": 7,
      "outputs": []
    },
    {
      "cell_type": "code",
      "execution_count": 8,
      "metadata": {
        "id": "Rr5h4fiXZGN_",
        "colab": {
          "base_uri": "https://localhost:8080/",
          "height": 67,
          "referenced_widgets": [
            "ccd638f4b9b447209f8dad49f479dec4",
            "1cbfc2448a674df6bccaecc3abee2710",
            "9eae24d5673e4683b2a6a66653de7198",
            "e9c7601205554197949ae19d1115b10f",
            "996995428fbd416da6c4c7e3bd2fd933",
            "06536a1e47e943bf80be276277a123e7",
            "265eac9d154c4f0792cb1109e530499e",
            "1374831893914c979550bcb08e003d11",
            "f016c6af132548649a75e9ed77904166",
            "a6d2bcf9638642b0b6d79568a7527dc1",
            "3d5d77073a6a45f1b925e9a943db92f6"
          ]
        },
        "outputId": "2e7e16e0-b3e5-4634-8c19-62c1e87ec0ee"
      },
      "outputs": [
        {
          "output_type": "stream",
          "name": "stderr",
          "text": [
            "Downloading: \"https://download.pytorch.org/models/resnet50-0676ba61.pth\" to /root/.cache/torch/hub/checkpoints/resnet50-0676ba61.pth\n"
          ]
        },
        {
          "output_type": "display_data",
          "data": {
            "application/vnd.jupyter.widget-view+json": {
              "model_id": "ccd638f4b9b447209f8dad49f479dec4",
              "version_minor": 0,
              "version_major": 2
            },
            "text/plain": [
              "  0%|          | 0.00/97.8M [00:00<?, ?B/s]"
            ]
          },
          "metadata": {}
        }
      ],
      "source": [
        "model_resnet50 = models.resnet50(pretrained=True)\n",
        "model_resnet50=model_resnet50.to(device)\n",
        "model_resnet50.fc = nn.Linear(2048, 9)\n",
        "model = model_resnet50"
      ]
    },
    {
      "cell_type": "code",
      "execution_count": null,
      "metadata": {
        "id": "hox1LLeDZtM9"
      },
      "outputs": [],
      "source": [
        "# model_mobilenet = models.mobilenet_v3_large(pretrained=True)\n",
        "# model_mobilenet.classifier[3] = nn.Linear(1280, 9)"
      ]
    },
    {
      "cell_type": "markdown",
      "metadata": {
        "id": "UlWIMQYozrve"
      },
      "source": [
        "# Data Processing"
      ]
    },
    {
      "cell_type": "markdown",
      "source": [
        "## CutMix"
      ],
      "metadata": {
        "id": "Jv1f9jsz-oFy"
      }
    },
    {
      "cell_type": "code",
      "source": [
        "def rand_bbox(size, lam):\n",
        "    W = size[2]\n",
        "    H = size[3]\n",
        "    cut_rat = np.sqrt(1. - lam)\n",
        "    cut_w = np.int(W * cut_rat)\n",
        "    cut_h = np.int(H * cut_rat)\n",
        "\n",
        "    # uniform\n",
        "    cx = np.random.randint(W)\n",
        "    cy = np.random.randint(H)\n",
        "\n",
        "    bbx1 = np.clip(cx - cut_w // 2, 0, W)\n",
        "    bby1 = np.clip(cy - cut_h // 2, 0, H)\n",
        "    bbx2 = np.clip(cx + cut_w // 2, 0, W)\n",
        "    bby2 = np.clip(cy + cut_h // 2, 0, H)\n",
        "\n",
        "    return bbx1, bby1, bbx2, bby2"
      ],
      "metadata": {
        "id": "kZZN1nFe-nEX"
      },
      "execution_count": 15,
      "outputs": []
    },
    {
      "cell_type": "code",
      "source": [
        "# generate mixed sample\n",
        "\n",
        "def mixcut_data(input, y, alpha=1,cutmix_prob=1, use_cuda=True):\n",
        "    r = np.random.rand(1)\n",
        "    if r <cutmix_prob:\n",
        "        lam = np.random.beta(alpha, alpha)\n",
        "        rand_index = torch.randperm(input.size()[0]).cuda()\n",
        "        y_a = y\n",
        "        y_b = y[rand_index]\n",
        "        bbx1, bby1, bbx2, bby2 = rand_bbox(input.size(), lam)\n",
        "        input[:, :, bbx1:bbx2, bby1:bby2] = input[rand_index, :, bbx1:bbx2, bby1:bby2]\n",
        "        # adjust lambda to exactly match pixel ratio\n",
        "        lam = 1 - ((bbx2 - bbx1) * (bby2 - bby1) / (input.size()[-1] * input.size()[-2]))\n",
        "        # compute output\n",
        "        return input, y_a, y_b, lam\n",
        "def mixcut_criterion(criterion, pred, y_a, y_b, lam):\n",
        "    return lam * criterion(pred, y_a) + (1 - lam) * criterion(pred, y_b)"
      ],
      "metadata": {
        "id": "i84d3n2Q-t05"
      },
      "execution_count": 16,
      "outputs": []
    },
    {
      "cell_type": "code",
      "source": [
        "x, y = iter(loader_train).next()\n",
        "mixed_x, y_a, y_b, lam = mixcut_data(x, y, use_cuda=False)"
      ],
      "metadata": {
        "id": "erX9-mDW-0DS"
      },
      "execution_count": null,
      "outputs": []
    },
    {
      "cell_type": "code",
      "source": [
        "out = torchvision.utils.make_grid(mixed_x[0:2])\n",
        "imshow(out)"
      ],
      "metadata": {
        "id": "wE7S559B-9h5"
      },
      "execution_count": null,
      "outputs": []
    },
    {
      "cell_type": "markdown",
      "metadata": {
        "id": "q2Q7HfNTz484"
      },
      "source": [
        "## Mixup"
      ]
    },
    {
      "cell_type": "code",
      "execution_count": null,
      "metadata": {
        "id": "a7e_4tThWjqx"
      },
      "outputs": [],
      "source": [
        "def mixup_data(x, y, alpha=1.0, use_cuda=True):\n",
        "    '''Returns mixed inputs, pairs of targets, and lambda'''\n",
        "    if alpha > 0:\n",
        "        lam = np.random.beta(alpha, alpha)\n",
        "    else:\n",
        "        lam = 1\n",
        "\n",
        "    batch_size = x.size()[0]\n",
        "    if use_cuda:\n",
        "        index = torch.randperm(batch_size).cuda()\n",
        "    else:\n",
        "        index = torch.randperm(batch_size)\n",
        "\n",
        "    mixed_x = lam * x + (1 - lam) * x[index, :]\n",
        "    y_a, y_b = y, y[index]\n",
        "    return mixed_x, y_a, y_b, lam\n",
        "\n",
        "def mixup_criterion(criterion, pred, y_a, y_b, lam):\n",
        "    return lam * criterion(pred, y_a) + (1 - lam) * criterion(pred, y_b)"
      ]
    },
    {
      "cell_type": "code",
      "execution_count": null,
      "metadata": {
        "colab": {
          "base_uri": "https://localhost:8080/"
        },
        "id": "BHeeaDt0XoAf",
        "outputId": "14b79b70-8284-48a6-f23a-68f7a91092b8"
      },
      "outputs": [
        {
          "output_type": "stream",
          "name": "stderr",
          "text": [
            "/usr/local/lib/python3.7/dist-packages/torch/utils/data/dataloader.py:481: UserWarning: This DataLoader will create 6 worker processes in total. Our suggested max number of worker in current system is 2, which is smaller than what this DataLoader is going to create. Please be aware that excessive worker creation might get DataLoader running slow or even freeze, lower the worker number to avoid potential slowness/freeze if necessary.\n",
            "  cpuset_checked))\n"
          ]
        }
      ],
      "source": [
        "x, y = iter(loader_train).next()\n",
        "mixed_x, y_a, y_b, lam = mixup_data(x, y, use_cuda=True)"
      ]
    },
    {
      "cell_type": "code",
      "execution_count": null,
      "metadata": {
        "colab": {
          "base_uri": "https://localhost:8080/",
          "height": 94
        },
        "id": "Q8AcJquMQsSO",
        "outputId": "f8978048-1e62-4c4f-85db-e8adb234680d"
      },
      "outputs": [
        {
          "output_type": "display_data",
          "data": {
            "image/png": "[encoded data removed]",
            "text/plain": [
              "<Figure size 432x288 with 1 Axes>"
            ]
          },
          "metadata": {
            "needs_background": "light"
          }
        }
      ],
      "source": [
        "out = torchvision.utils.make_grid(mixed_x[0:4])\n",
        "imshow(out)"
      ]
    },
    {
      "cell_type": "markdown",
      "metadata": {
        "id": "OEHlUgW6bDV6"
      },
      "source": [
        "# Train"
      ]
    },
    {
      "cell_type": "code",
      "execution_count": null,
      "metadata": {
        "id": "qg75sLbycc8H"
      },
      "outputs": [],
      "source": [
        "criterion = nn.CrossEntropyLoss()\n",
        "optimizer = torch.optim.SGD(model.parameters(), lr=0.1, momentum=0.9,\n",
        "                      weight_decay=1e-4)\n",
        "n_epochs = 200\n",
        "alpha = 1"
      ]
    },
    {
      "cell_type": "code",
      "execution_count": null,
      "metadata": {
        "id": "hefgvPbmbLy3"
      },
      "outputs": [],
      "source": [
        "####################\n",
        "# If you want to train network on cutmix data,\n",
        "# you need to change the function mixup_data, mixup_criterion to mixcut_data and mixcut_criterion respectively.\n",
        "####################\n",
        "model=model.to(device)\n",
        "model.train()\n",
        "\n",
        "loss_train = np.zeros(n_epochs)\n",
        "acc_train = np.zeros(n_epochs)\n",
        "for epoch_num in tqdm(range(n_epochs)):\n",
        "  running_corrects = 0.0\n",
        "  running_loss = 0.0\n",
        "  total = 0\n",
        "  for batch_idx, (inputs, targets) in tqdm(enumerate(loader_train)): \n",
        "      if torch.cuda.is_available():\n",
        "          inputs, targets = inputs.cuda(), targets.cuda()\n",
        "\n",
        "      inputs, targets_a, targets_b, lam = mixup_data(inputs, targets,\n",
        "                                                      alpha, torch.cuda.is_available())\n",
        "      inputs, targets_a, targets_b = map(Variable, (inputs,\n",
        "                                                    targets_a, targets_b))\n",
        "      outputs = model(inputs)\n",
        "      loss = mixup_criterion(criterion, outputs, targets_a, targets_b, lam)\n",
        "      optimizer.zero_grad()\n",
        "      loss.backward()\n",
        "      optimizer.step()\n",
        "      \n",
        "      running_loss += loss.data.item()\n",
        "      _, predicted = torch.max(outputs.data, 1)\n",
        "      total += targets.size(0)\n",
        "      running_corrects += (lam * predicted.eq(targets_a.data).cpu().sum().float()\n",
        "                  + (1 - lam) * predicted.eq(targets_b.data).cpu().sum().float())\n",
        "      \n",
        "  epoch_loss = running_loss / total\n",
        "  epoch_acc = running_corrects / total\n",
        "  loss_train[epoch_num] = epoch_loss\n",
        "  acc_train[epoch_num] = epoch_acc\n",
        "  print('Train - Loss: {:.4f} Acc: {:.4f}'.format(epoch_loss, epoch_acc))"
      ]
    },
    {
      "cell_type": "code",
      "source": [
        "########\n",
        "# Save the model. No need to run this block if you do not save model\n",
        "########\n",
        "from google.colab import drive\n",
        "drive.mount('/content/drive')\n",
        "\n",
        "torch.save(model.state_dict(), 'drive/MyDrive/ResnetMixcut.pt')"
      ],
      "metadata": {
        "id": "7ElYvzOpAW0p"
      },
      "execution_count": null,
      "outputs": []
    },
    {
      "cell_type": "markdown",
      "source": [
        "# Test"
      ],
      "metadata": {
        "id": "wATLTzk-jnAI"
      }
    },
    {
      "cell_type": "code",
      "source": [
        "#################\n",
        "# Load the model. No need to run this block if you do not load model\n",
        "#################\n",
        "PATH = 'Original.pt'\n",
        "model.load_state_dict(torch.load(PATH, map_location=torch.device('cpu')))"
      ],
      "metadata": {
        "id": "-IDt0dMmzIUl"
      },
      "execution_count": null,
      "outputs": []
    },
    {
      "cell_type": "code",
      "source": [
        "model.eval()\n",
        "loader = loader_no_fg\n",
        "model = model.to('cpu')\n",
        "running_corrects = 0.0\n",
        "running_loss = 0.0\n",
        "size = 0\n",
        "criterion = nn.CrossEntropyLoss()\n",
        "\n",
        "for data in tqdm(loader):\n",
        "    inputs, labels = data\n",
        "    bs = labels.size(0)\n",
        "    with torch.no_grad():\n",
        "      output = model(inputs)\n",
        "      pred = output.max(1, keepdim=True)[1]\n",
        "      running_corrects += pred.eq(labels.view_as(pred)).sum()\n",
        "      loss = criterion(output, labels)\n",
        "      running_loss += loss\n",
        "      size += bs\n",
        "\n",
        "print('Test - Loss: {:.4f} Acc: {:.4f}'.format(running_loss.item() / size, running_corrects.item() / size))"
      ],
      "metadata": {
        "id": "Xu7v1XBWZrH0",
        "colab": {
          "base_uri": "https://localhost:8080/",
          "height": 124,
          "referenced_widgets": [
            "d6daed501598439fa2b65a2ac71c372a",
            "c3ef898fa4074afbb6c6f50548ffb1f7",
            "7de8618534ab462e9b5f5e1403a2ba96",
            "ed15466899894a48b81d274244308372",
            "f815c3d3f5a648f8abd89b7d63132d73",
            "f9561794fa6d4658b384d3b14f2b6ef5",
            "4a9f926079a7428bae75700f620f47aa",
            "d5af262b12f84447882da103e43620dc",
            "e7ee81170ab54a14942df29054bc84a1",
            "a6bbcb117e2c406c947f04f0ec6886ca",
            "977464e2ea984f22abf184af447cfe64"
          ]
        },
        "outputId": "19f260af-91ff-415e-fb74-b569903e8609"
      },
      "execution_count": 14,
      "outputs": [
        {
          "output_type": "display_data",
          "data": {
            "application/vnd.jupyter.widget-view+json": {
              "model_id": "d6daed501598439fa2b65a2ac71c372a",
              "version_minor": 0,
              "version_major": 2
            },
            "text/plain": [
              "  0%|          | 0/837 [00:00<?, ?it/s]"
            ]
          },
          "metadata": {}
        },
        {
          "output_type": "stream",
          "name": "stderr",
          "text": [
            "/usr/local/lib/python3.7/dist-packages/torch/utils/data/dataloader.py:481: UserWarning: This DataLoader will create 6 worker processes in total. Our suggested max number of worker in current system is 2, which is smaller than what this DataLoader is going to create. Please be aware that excessive worker creation might get DataLoader running slow or even freeze, lower the worker number to avoid potential slowness/freeze if necessary.\n",
            "  cpuset_checked))\n"
          ]
        },
        {
          "output_type": "stream",
          "name": "stdout",
          "text": [
            "Test - Loss: 0.7729 Acc: 0.2652\n"
          ]
        }
      ]
    },
    {
      "cell_type": "markdown",
      "source": [
        "# SWA training"
      ],
      "metadata": {
        "id": "4-i-4G_av_yh"
      }
    },
    {
      "cell_type": "code",
      "source": [
        "from torch.optim.swa_utils import AveragedModel, SWALR\n",
        "from torch.optim.lr_scheduler import CosineAnnealingLR"
      ],
      "metadata": {
        "id": "NG-BGbkuwB8i"
      },
      "execution_count": null,
      "outputs": []
    },
    {
      "cell_type": "code",
      "source": [
        "criterion = nn.CrossEntropyLoss()\n",
        "optimizer = torch.optim.SGD(model.parameters(), lr=0.1, momentum=0.9,\n",
        "                      weight_decay=1e-4)\n",
        "n_epochs = 200\n",
        "alpha = 1\n",
        "\n",
        "swa_model = AveragedModel(model)\n",
        "scheduler = CosineAnnealingLR(optimizer, T_max=100)\n",
        "swa_start = int(n_epochs * 0.75)\n",
        "swa_scheduler = SWALR(optimizer, swa_lr=0.05)"
      ],
      "metadata": {
        "id": "JQ6lT16zwGUj"
      },
      "execution_count": null,
      "outputs": []
    },
    {
      "cell_type": "code",
      "source": [
        "model.to(device)\n",
        "model.train()\n",
        "\n",
        "loss_train = np.zeros(n_epochs)\n",
        "acc_train = np.zeros(n_epochs)\n",
        "for epoch_num in tqdm(range(n_epochs)):\n",
        "  running_corrects = 0.0\n",
        "  running_loss = 0.0\n",
        "  total = 0\n",
        "  for batch_idx, (inputs, targets) in tqdm(enumerate(loader_train)): \n",
        "      if torch.cuda.is_available():\n",
        "          inputs, targets = inputs.cuda(), targets.cuda()\n",
        "\n",
        "      inputs, targets_a, targets_b, lam = mixup_data(inputs, targets,\n",
        "                                                      alpha, torch.cuda.is_available())\n",
        "      inputs, targets_a, targets_b = map(Variable, (inputs,\n",
        "                                                    targets_a, targets_b))\n",
        "      outputs = model(inputs)\n",
        "      loss = mixup_criterion(criterion, outputs, targets_a, targets_b, lam)\n",
        "      optimizer.zero_grad()\n",
        "      loss.backward()\n",
        "      optimizer.step()\n",
        "      \n",
        "      running_loss += loss.data.item()\n",
        "      _, predicted = torch.max(outputs.data, 1)\n",
        "      total += targets.size(0)\n",
        "      running_corrects += (lam * predicted.eq(targets_a.data).cpu().sum().float()\n",
        "                  + (1 - lam) * predicted.eq(targets_b.data).cpu().sum().float())\n",
        "      \n",
        "  if epoch_num > swa_start:\n",
        "          swa_model.update_parameters(model)\n",
        "          swa_scheduler.step()\n",
        "  else:\n",
        "          scheduler.step()\n",
        "      \n",
        "  epoch_loss = running_loss / total\n",
        "  epoch_acc = running_corrects / total\n",
        "  loss_train[epoch_num] = epoch_loss\n",
        "  acc_train[epoch_num] = epoch_acc\n",
        "  print('Train - Loss: {:.4f} Acc: {:.4f}'.format(epoch_loss, epoch_acc))"
      ],
      "metadata": {
        "id": "25-sqTtcwqDU"
      },
      "execution_count": null,
      "outputs": []
    },
    {
      "cell_type": "code",
      "source": [
        ""
      ],
      "metadata": {
        "id": "MpVr0pyoxxGV"
      },
      "execution_count": null,
      "outputs": []
    }
  ],
  "metadata": {
    "colab": {
      "collapsed_sections": [],
      "name": "Project_MAP583.ipynb",
      "provenance": [],
      "toc_visible": true
    },
    "kernelspec": {
      "display_name": "Python 3",
      "name": "python3"
    },
    "language_info": {
      "name": "python"
    },
    "accelerator": "GPU",
    "widgets": {
      "application/vnd.jupyter.widget-state+json": {
        "ccd638f4b9b447209f8dad49f479dec4": {
          "model_module": "@jupyter-widgets/controls",
          "model_name": "HBoxModel",
          "model_module_version": "1.5.0",
          "state": {
            "_view_name": "HBoxView",
            "_dom_classes": [],
            "_model_name": "HBoxModel",
            "_view_module": "@jupyter-widgets/controls",
            "_model_module_version": "1.5.0",
            "_view_count": null,
            "_view_module_version": "1.5.0",
            "box_style": "",
            "layout": "IPY_MODEL_1cbfc2448a674df6bccaecc3abee2710",
            "_model_module": "@jupyter-widgets/controls",
            "children": [
              "IPY_MODEL_9eae24d5673e4683b2a6a66653de7198",
              "IPY_MODEL_e9c7601205554197949ae19d1115b10f",
              "IPY_MODEL_996995428fbd416da6c4c7e3bd2fd933"
            ]
          }
        },
        "1cbfc2448a674df6bccaecc3abee2710": {
          "model_module": "@jupyter-widgets/base",
          "model_name": "LayoutModel",
          "model_module_version": "1.2.0",
          "state": {
            "_view_name": "LayoutView",
            "grid_template_rows": null,
            "right": null,
            "justify_content": null,
            "_view_module": "@jupyter-widgets/base",
            "overflow": null,
            "_model_module_version": "1.2.0",
            "_view_count": null,
            "flex_flow": null,
            "width": null,
            "min_width": null,
            "border": null,
            "align_items": null,
            "bottom": null,
            "_model_module": "@jupyter-widgets/base",
            "top": null,
            "grid_column": null,
            "overflow_y": null,
            "overflow_x": null,
            "grid_auto_flow": null,
            "grid_area": null,
            "grid_template_columns": null,
            "flex": null,
            "_model_name": "LayoutModel",
            "justify_items": null,
            "grid_row": null,
            "max_height": null,
            "align_content": null,
            "visibility": null,
            "align_self": null,
            "height": null,
            "min_height": null,
            "padding": null,
            "grid_auto_rows": null,
            "grid_gap": null,
            "max_width": null,
            "order": null,
            "_view_module_version": "1.2.0",
            "grid_template_areas": null,
            "object_position": null,
            "object_fit": null,
            "grid_auto_columns": null,
            "margin": null,
            "display": null,
            "left": null
          }
        },
        "9eae24d5673e4683b2a6a66653de7198": {
          "model_module": "@jupyter-widgets/controls",
          "model_name": "HTMLModel",
          "model_module_version": "1.5.0",
          "state": {
            "_view_name": "HTMLView",
            "style": "IPY_MODEL_06536a1e47e943bf80be276277a123e7",
            "_dom_classes": [],
            "description": "",
            "_model_name": "HTMLModel",
            "placeholder": "​",
            "_view_module": "@jupyter-widgets/controls",
            "_model_module_version": "1.5.0",
            "value": "100%",
            "_view_count": null,
            "_view_module_version": "1.5.0",
            "description_tooltip": null,
            "_model_module": "@jupyter-widgets/controls",
            "layout": "IPY_MODEL_265eac9d154c4f0792cb1109e530499e"
          }
        },
        "e9c7601205554197949ae19d1115b10f": {
          "model_module": "@jupyter-widgets/controls",
          "model_name": "FloatProgressModel",
          "model_module_version": "1.5.0",
          "state": {
            "_view_name": "ProgressView",
            "style": "IPY_MODEL_1374831893914c979550bcb08e003d11",
            "_dom_classes": [],
            "description": "",
            "_model_name": "FloatProgressModel",
            "bar_style": "success",
            "max": 102530333,
            "_view_module": "@jupyter-widgets/controls",
            "_model_module_version": "1.5.0",
            "value": 102530333,
            "_view_count": null,
            "_view_module_version": "1.5.0",
            "orientation": "horizontal",
            "min": 0,
            "description_tooltip": null,
            "_model_module": "@jupyter-widgets/controls",
            "layout": "IPY_MODEL_f016c6af132548649a75e9ed77904166"
          }
        },
        "996995428fbd416da6c4c7e3bd2fd933": {
          "model_module": "@jupyter-widgets/controls",
          "model_name": "HTMLModel",
          "model_module_version": "1.5.0",
          "state": {
            "_view_name": "HTMLView",
            "style": "IPY_MODEL_a6d2bcf9638642b0b6d79568a7527dc1",
            "_dom_classes": [],
            "description": "",
            "_model_name": "HTMLModel",
            "placeholder": "​",
            "_view_module": "@jupyter-widgets/controls",
            "_model_module_version": "1.5.0",
            "value": " 97.8M/97.8M [00:01&lt;00:00, 119MB/s]",
            "_view_count": null,
            "_view_module_version": "1.5.0",
            "description_tooltip": null,
            "_model_module": "@jupyter-widgets/controls",
            "layout": "IPY_MODEL_3d5d77073a6a45f1b925e9a943db92f6"
          }
        },
        "06536a1e47e943bf80be276277a123e7": {
          "model_module": "@jupyter-widgets/controls",
          "model_name": "DescriptionStyleModel",
          "model_module_version": "1.5.0",
          "state": {
            "_view_name": "StyleView",
            "_model_name": "DescriptionStyleModel",
            "description_width": "",
            "_view_module": "@jupyter-widgets/base",
            "_model_module_version": "1.5.0",
            "_view_count": null,
            "_view_module_version": "1.2.0",
            "_model_module": "@jupyter-widgets/controls"
          }
        },
        "265eac9d154c4f0792cb1109e530499e": {
          "model_module": "@jupyter-widgets/base",
          "model_name": "LayoutModel",
          "model_module_version": "1.2.0",
          "state": {
            "_view_name": "LayoutView",
            "grid_template_rows": null,
            "right": null,
            "justify_content": null,
            "_view_module": "@jupyter-widgets/base",
            "overflow": null,
            "_model_module_version": "1.2.0",
            "_view_count": null,
            "flex_flow": null,
            "width": null,
            "min_width": null,
            "border": null,
            "align_items": null,
            "bottom": null,
            "_model_module": "@jupyter-widgets/base",
            "top": null,
            "grid_column": null,
            "overflow_y": null,
            "overflow_x": null,
            "grid_auto_flow": null,
            "grid_area": null,
            "grid_template_columns": null,
            "flex": null,
            "_model_name": "LayoutModel",
            "justify_items": null,
            "grid_row": null,
            "max_height": null,
            "align_content": null,
            "visibility": null,
            "align_self": null,
            "height": null,
            "min_height": null,
            "padding": null,
            "grid_auto_rows": null,
            "grid_gap": null,
            "max_width": null,
            "order": null,
            "_view_module_version": "1.2.0",
            "grid_template_areas": null,
            "object_position": null,
            "object_fit": null,
            "grid_auto_columns": null,
            "margin": null,
            "display": null,
            "left": null
          }
        },
        "1374831893914c979550bcb08e003d11": {
          "model_module": "@jupyter-widgets/controls",
          "model_name": "ProgressStyleModel",
          "model_module_version": "1.5.0",
          "state": {
            "_view_name": "StyleView",
            "_model_name": "ProgressStyleModel",
            "description_width": "",
            "_view_module": "@jupyter-widgets/base",
            "_model_module_version": "1.5.0",
            "_view_count": null,
            "_view_module_version": "1.2.0",
            "bar_color": null,
            "_model_module": "@jupyter-widgets/controls"
          }
        },
        "f016c6af132548649a75e9ed77904166": {
          "model_module": "@jupyter-widgets/base",
          "model_name": "LayoutModel",
          "model_module_version": "1.2.0",
          "state": {
            "_view_name": "LayoutView",
            "grid_template_rows": null,
            "right": null,
            "justify_content": null,
            "_view_module": "@jupyter-widgets/base",
            "overflow": null,
            "_model_module_version": "1.2.0",
            "_view_count": null,
            "flex_flow": null,
            "width": null,
            "min_width": null,
            "border": null,
            "align_items": null,
            "bottom": null,
            "_model_module": "@jupyter-widgets/base",
            "top": null,
            "grid_column": null,
            "overflow_y": null,
            "overflow_x": null,
            "grid_auto_flow": null,
            "grid_area": null,
            "grid_template_columns": null,
            "flex": null,
            "_model_name": "LayoutModel",
            "justify_items": null,
            "grid_row": null,
            "max_height": null,
            "align_content": null,
            "visibility": null,
            "align_self": null,
            "height": null,
            "min_height": null,
            "padding": null,
            "grid_auto_rows": null,
            "grid_gap": null,
            "max_width": null,
            "order": null,
            "_view_module_version": "1.2.0",
            "grid_template_areas": null,
            "object_position": null,
            "object_fit": null,
            "grid_auto_columns": null,
            "margin": null,
            "display": null,
            "left": null
          }
        },
        "a6d2bcf9638642b0b6d79568a7527dc1": {
          "model_module": "@jupyter-widgets/controls",
          "model_name": "DescriptionStyleModel",
          "model_module_version": "1.5.0",
          "state": {
            "_view_name": "StyleView",
            "_model_name": "DescriptionStyleModel",
            "description_width": "",
            "_view_module": "@jupyter-widgets/base",
            "_model_module_version": "1.5.0",
            "_view_count": null,
            "_view_module_version": "1.2.0",
            "_model_module": "@jupyter-widgets/controls"
          }
        },
        "3d5d77073a6a45f1b925e9a943db92f6": {
          "model_module": "@jupyter-widgets/base",
          "model_name": "LayoutModel",
          "model_module_version": "1.2.0",
          "state": {
            "_view_name": "LayoutView",
            "grid_template_rows": null,
            "right": null,
            "justify_content": null,
            "_view_module": "@jupyter-widgets/base",
            "overflow": null,
            "_model_module_version": "1.2.0",
            "_view_count": null,
            "flex_flow": null,
            "width": null,
            "min_width": null,
            "border": null,
            "align_items": null,
            "bottom": null,
            "_model_module": "@jupyter-widgets/base",
            "top": null,
            "grid_column": null,
            "overflow_y": null,
            "overflow_x": null,
            "grid_auto_flow": null,
            "grid_area": null,
            "grid_template_columns": null,
            "flex": null,
            "_model_name": "LayoutModel",
            "justify_items": null,
            "grid_row": null,
            "max_height": null,
            "align_content": null,
            "visibility": null,
            "align_self": null,
            "height": null,
            "min_height": null,
            "padding": null,
            "grid_auto_rows": null,
            "grid_gap": null,
            "max_width": null,
            "order": null,
            "_view_module_version": "1.2.0",
            "grid_template_areas": null,
            "object_position": null,
            "object_fit": null,
            "grid_auto_columns": null,
            "margin": null,
            "display": null,
            "left": null
          }
        },
        "d6daed501598439fa2b65a2ac71c372a": {
          "model_module": "@jupyter-widgets/controls",
          "model_name": "HBoxModel",
          "model_module_version": "1.5.0",
          "state": {
            "_view_name": "HBoxView",
            "_dom_classes": [],
            "_model_name": "HBoxModel",
            "_view_module": "@jupyter-widgets/controls",
            "_model_module_version": "1.5.0",
            "_view_count": null,
            "_view_module_version": "1.5.0",
            "box_style": "",
            "layout": "IPY_MODEL_c3ef898fa4074afbb6c6f50548ffb1f7",
            "_model_module": "@jupyter-widgets/controls",
            "children": [
              "IPY_MODEL_7de8618534ab462e9b5f5e1403a2ba96",
              "IPY_MODEL_ed15466899894a48b81d274244308372",
              "IPY_MODEL_f815c3d3f5a648f8abd89b7d63132d73"
            ]
          }
        },
        "c3ef898fa4074afbb6c6f50548ffb1f7": {
          "model_module": "@jupyter-widgets/base",
          "model_name": "LayoutModel",
          "model_module_version": "1.2.0",
          "state": {
            "_view_name": "LayoutView",
            "grid_template_rows": null,
            "right": null,
            "justify_content": null,
            "_view_module": "@jupyter-widgets/base",
            "overflow": null,
            "_model_module_version": "1.2.0",
            "_view_count": null,
            "flex_flow": null,
            "width": null,
            "min_width": null,
            "border": null,
            "align_items": null,
            "bottom": null,
            "_model_module": "@jupyter-widgets/base",
            "top": null,
            "grid_column": null,
            "overflow_y": null,
            "overflow_x": null,
            "grid_auto_flow": null,
            "grid_area": null,
            "grid_template_columns": null,
            "flex": null,
            "_model_name": "LayoutModel",
            "justify_items": null,
            "grid_row": null,
            "max_height": null,
            "align_content": null,
            "visibility": null,
            "align_self": null,
            "height": null,
            "min_height": null,
            "padding": null,
            "grid_auto_rows": null,
            "grid_gap": null,
            "max_width": null,
            "order": null,
            "_view_module_version": "1.2.0",
            "grid_template_areas": null,
            "object_position": null,
            "object_fit": null,
            "grid_auto_columns": null,
            "margin": null,
            "display": null,
            "left": null
          }
        },
        "7de8618534ab462e9b5f5e1403a2ba96": {
          "model_module": "@jupyter-widgets/controls",
          "model_name": "HTMLModel",
          "model_module_version": "1.5.0",
          "state": {
            "_view_name": "HTMLView",
            "style": "IPY_MODEL_f9561794fa6d4658b384d3b14f2b6ef5",
            "_dom_classes": [],
            "description": "",
            "_model_name": "HTMLModel",
            "placeholder": "​",
            "_view_module": "@jupyter-widgets/controls",
            "_model_module_version": "1.5.0",
            "value": "100%",
            "_view_count": null,
            "_view_module_version": "1.5.0",
            "description_tooltip": null,
            "_model_module": "@jupyter-widgets/controls",
            "layout": "IPY_MODEL_4a9f926079a7428bae75700f620f47aa"
          }
        },
        "ed15466899894a48b81d274244308372": {
          "model_module": "@jupyter-widgets/controls",
          "model_name": "FloatProgressModel",
          "model_module_version": "1.5.0",
          "state": {
            "_view_name": "ProgressView",
            "style": "IPY_MODEL_d5af262b12f84447882da103e43620dc",
            "_dom_classes": [],
            "description": "",
            "_model_name": "FloatProgressModel",
            "bar_style": "success",
            "max": 837,
            "_view_module": "@jupyter-widgets/controls",
            "_model_module_version": "1.5.0",
            "value": 837,
            "_view_count": null,
            "_view_module_version": "1.5.0",
            "orientation": "horizontal",
            "min": 0,
            "description_tooltip": null,
            "_model_module": "@jupyter-widgets/controls",
            "layout": "IPY_MODEL_e7ee81170ab54a14942df29054bc84a1"
          }
        },
        "f815c3d3f5a648f8abd89b7d63132d73": {
          "model_module": "@jupyter-widgets/controls",
          "model_name": "HTMLModel",
          "model_module_version": "1.5.0",
          "state": {
            "_view_name": "HTMLView",
            "style": "IPY_MODEL_a6bbcb117e2c406c947f04f0ec6886ca",
            "_dom_classes": [],
            "description": "",
            "_model_name": "HTMLModel",
            "placeholder": "​",
            "_view_module": "@jupyter-widgets/controls",
            "_model_module_version": "1.5.0",
            "value": " 837/837 [13:46&lt;00:00,  1.04it/s]",
            "_view_count": null,
            "_view_module_version": "1.5.0",
            "description_tooltip": null,
            "_model_module": "@jupyter-widgets/controls",
            "layout": "IPY_MODEL_977464e2ea984f22abf184af447cfe64"
          }
        },
        "f9561794fa6d4658b384d3b14f2b6ef5": {
          "model_module": "@jupyter-widgets/controls",
          "model_name": "DescriptionStyleModel",
          "model_module_version": "1.5.0",
          "state": {
            "_view_name": "StyleView",
            "_model_name": "DescriptionStyleModel",
            "description_width": "",
            "_view_module": "@jupyter-widgets/base",
            "_model_module_version": "1.5.0",
            "_view_count": null,
            "_view_module_version": "1.2.0",
            "_model_module": "@jupyter-widgets/controls"
          }
        },
        "4a9f926079a7428bae75700f620f47aa": {
          "model_module": "@jupyter-widgets/base",
          "model_name": "LayoutModel",
          "model_module_version": "1.2.0",
          "state": {
            "_view_name": "LayoutView",
            "grid_template_rows": null,
            "right": null,
            "justify_content": null,
            "_view_module": "@jupyter-widgets/base",
            "overflow": null,
            "_model_module_version": "1.2.0",
            "_view_count": null,
            "flex_flow": null,
            "width": null,
            "min_width": null,
            "border": null,
            "align_items": null,
            "bottom": null,
            "_model_module": "@jupyter-widgets/base",
            "top": null,
            "grid_column": null,
            "overflow_y": null,
            "overflow_x": null,
            "grid_auto_flow": null,
            "grid_area": null,
            "grid_template_columns": null,
            "flex": null,
            "_model_name": "LayoutModel",
            "justify_items": null,
            "grid_row": null,
            "max_height": null,
            "align_content": null,
            "visibility": null,
            "align_self": null,
            "height": null,
            "min_height": null,
            "padding": null,
            "grid_auto_rows": null,
            "grid_gap": null,
            "max_width": null,
            "order": null,
            "_view_module_version": "1.2.0",
            "grid_template_areas": null,
            "object_position": null,
            "object_fit": null,
            "grid_auto_columns": null,
            "margin": null,
            "display": null,
            "left": null
          }
        },
        "d5af262b12f84447882da103e43620dc": {
          "model_module": "@jupyter-widgets/controls",
          "model_name": "ProgressStyleModel",
          "model_module_version": "1.5.0",
          "state": {
            "_view_name": "StyleView",
            "_model_name": "ProgressStyleModel",
            "description_width": "",
            "_view_module": "@jupyter-widgets/base",
            "_model_module_version": "1.5.0",
            "_view_count": null,
            "_view_module_version": "1.2.0",
            "bar_color": null,
            "_model_module": "@jupyter-widgets/controls"
          }
        },
        "e7ee81170ab54a14942df29054bc84a1": {
          "model_module": "@jupyter-widgets/base",
          "model_name": "LayoutModel",
          "model_module_version": "1.2.0",
          "state": {
            "_view_name": "LayoutView",
            "grid_template_rows": null,
            "right": null,
            "justify_content": null,
            "_view_module": "@jupyter-widgets/base",
            "overflow": null,
            "_model_module_version": "1.2.0",
            "_view_count": null,
            "flex_flow": null,
            "width": null,
            "min_width": null,
            "border": null,
            "align_items": null,
            "bottom": null,
            "_model_module": "@jupyter-widgets/base",
            "top": null,
            "grid_column": null,
            "overflow_y": null,
            "overflow_x": null,
            "grid_auto_flow": null,
            "grid_area": null,
            "grid_template_columns": null,
            "flex": null,
            "_model_name": "LayoutModel",
            "justify_items": null,
            "grid_row": null,
            "max_height": null,
            "align_content": null,
            "visibility": null,
            "align_self": null,
            "height": null,
            "min_height": null,
            "padding": null,
            "grid_auto_rows": null,
            "grid_gap": null,
            "max_width": null,
            "order": null,
            "_view_module_version": "1.2.0",
            "grid_template_areas": null,
            "object_position": null,
            "object_fit": null,
            "grid_auto_columns": null,
            "margin": null,
            "display": null,
            "left": null
          }
        },
        "a6bbcb117e2c406c947f04f0ec6886ca": {
          "model_module": "@jupyter-widgets/controls",
          "model_name": "DescriptionStyleModel",
          "model_module_version": "1.5.0",
          "state": {
            "_view_name": "StyleView",
            "_model_name": "DescriptionStyleModel",
            "description_width": "",
            "_view_module": "@jupyter-widgets/base",
            "_model_module_version": "1.5.0",
            "_view_count": null,
            "_view_module_version": "1.2.0",
            "_model_module": "@jupyter-widgets/controls"
          }
        },
        "977464e2ea984f22abf184af447cfe64": {
          "model_module": "@jupyter-widgets/base",
          "model_name": "LayoutModel",
          "model_module_version": "1.2.0",
          "state": {
            "_view_name": "LayoutView",
            "grid_template_rows": null,
            "right": null,
            "justify_content": null,
            "_view_module": "@jupyter-widgets/base",
            "overflow": null,
            "_model_module_version": "1.2.0",
            "_view_count": null,
            "flex_flow": null,
            "width": null,
            "min_width": null,
            "border": null,
            "align_items": null,
            "bottom": null,
            "_model_module": "@jupyter-widgets/base",
            "top": null,
            "grid_column": null,
            "overflow_y": null,
            "overflow_x": null,
            "grid_auto_flow": null,
            "grid_area": null,
            "grid_template_columns": null,
            "flex": null,
            "_model_name": "LayoutModel",
            "justify_items": null,
            "grid_row": null,
            "max_height": null,
            "align_content": null,
            "visibility": null,
            "align_self": null,
            "height": null,
            "min_height": null,
            "padding": null,
            "grid_auto_rows": null,
            "grid_gap": null,
            "max_width": null,
            "order": null,
            "_view_module_version": "1.2.0",
            "grid_template_areas": null,
            "object_position": null,
            "object_fit": null,
            "grid_auto_columns": null,
            "margin": null,
            "display": null,
            "left": null
          }
        }
      }
    }
  },
  "nbformat": 4,
  "nbformat_minor": 0
}